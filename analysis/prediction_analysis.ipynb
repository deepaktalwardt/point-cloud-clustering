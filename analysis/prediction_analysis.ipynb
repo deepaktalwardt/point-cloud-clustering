{
 "cells": [
  {
   "cell_type": "markdown",
   "metadata": {},
   "source": [
    "This python notebook is for calculating confusion matrix,heatmap,recall and precision for very object in a one json file.\n",
    "We are giving json file which has atleast 10 points in each object.\n",
    "If you want to run for 50,100,300,500 points json you can download that files from https://drive.google.com/drive/u/0/folders/1UihUt7aVNLGXXRiTDjNyMBr2hCP-3RLc\n"
   ]
  },
  {
   "cell_type": "code",
   "execution_count": null,
   "metadata": {},
   "outputs": [],
   "source": [
    "# Getting error in running file, you can run in pycharm."
   ]
  },
  {
   "cell_type": "code",
   "execution_count": null,
   "metadata": {},
   "outputs": [],
   "source": [
    "import json\n",
    "import pandas as pd\n",
    "from sklearn.metrics import confusion_matrix\n",
    "import numpy as np\n",
    "import matplotlib.pyplot as plt\n",
    "import seaborn as sns\n",
    "from sklearn.metrics import precision_score, recall_score\n",
    "from sklearn.preprocessing import normalize"
   ]
  },
  {
   "cell_type": "code",
   "execution_count": null,
   "metadata": {
    "scrolled": false
   },
   "outputs": [],
   "source": [
    "# Loading json file and displying from given path\n",
    "path_to_folder = 'point-cloud-clustering/ros_ws/src/dataset_generation/scripts/test_json/'\n",
    "result_file_name = 'test_results_sources_1_10_icp.json'\n",
    "f = open(path_to_folder + result_file_name)\n",
    "data = json.load(f)"
   ]
  },
  {
   "cell_type": "code",
   "execution_count": null,
   "metadata": {},
   "outputs": [],
   "source": [
    "# giving labels\n",
    "labels = ['Hatchback', 'Jeep', 'SUV', 'Sedan']\n"
   ]
  },
  {
   "cell_type": "code",
   "execution_count": null,
   "metadata": {},
   "outputs": [],
   "source": [
    "# Plot confusion Matrix\n",
    "predicted = []\n",
    "true_label = []\n",
    "\n",
    "for line in data:\n",
    "    collect = []\n",
    "    converged = []\n",
    "    for test_result in data[line]:\n",
    "        if test_result == 'tests':\n",
    "            for label in labels:\n",
    "                if (data[line][test_result][label]['has_converged']):\n",
    "                    converged.append((data[line][test_result][label]['fitness_score'], label))\n",
    "                collect.append((data[line][test_result][label]['fitness_score'], label))\n",
    "    # Criterion 1\n",
    "    if len(converged) == 1:  # If only converged to 1 label\n",
    "        predicted.append(converged[0][1])\n",
    "        true_label.append(data[line]['true_label'])\n",
    "    elif len(converged) > 1:  # Criterion 2: If converged to more than one, choose the one with lowest score\n",
    "        converged.sort()\n",
    "        predicted.append(converged[0][1])\n",
    "        true_label.append(data[line]['true_label'])\n",
    "    else:  # Criterion 3: If didn't converge to any, choose the label with lowest error\n",
    "        pass\n",
    "        # Uncomment this if you would like to run Criterion 3\n",
    "        # if collect:\n",
    "        #     collect.sort()\n",
    "        #     predicted.append(collect[0][1])\n",
    "        #     true_label.append(data[line]['true_label'])\n",
    "\n",
    "#if you are getting normalization error you need to update your sklearn.\n",
    "cm = confusion_matrix(true_label, predicted, labels=labels, normalize='true')  \n",
    "print(cm)\n"
   ]
  },
  {
   "cell_type": "code",
   "execution_count": null,
   "metadata": {},
   "outputs": [],
   "source": [
    "#Printing data and true labels\n",
    "print(len(data))\n",
    "print(len(true_label))"
   ]
  },
  {
   "cell_type": "code",
   "execution_count": null,
   "metadata": {},
   "outputs": [],
   "source": [
    "#displaying heatmap for all objects \n",
    "df_cm = pd.DataFrame(cm, index = [i for i in labels],\n",
    "                      columns = [i for i in labels])\n",
    "sns.set(font_scale=1.3)\n",
    "fig, ax = plt.subplots(figsize=(10,10))\n",
    "sns.heatmap(df_cm, annot=True, cmap=\"Blues\", ax=ax)"
   ]
  },
  {
   "cell_type": "markdown",
   "metadata": {},
   "source": [
    "You can see heatmap of this files on https://drive.google.com/drive/u/0/folders/1HuXju-1GFQmQVL_IQxvpU-wnFcQiCGKI"
   ]
  },
  {
   "cell_type": "code",
   "execution_count": null,
   "metadata": {},
   "outputs": [],
   "source": [
    "# Calculate Precision and Recall\n",
    "print(\"recall :\", recall_score(true_label, predicted, labels, average=None))\n",
    "print(\"precision :\", precision_score(true_label, predicted, labels,average=None))"
   ]
  }
 ],
 "metadata": {
  "kernelspec": {
   "display_name": "Python 3",
   "language": "python",
   "name": "python3"
  },
  "language_info": {
   "codemirror_mode": {
    "name": "ipython",
    "version": 3
   },
   "file_extension": ".py",
   "mimetype": "text/x-python",
   "name": "python",
   "nbconvert_exporter": "python",
   "pygments_lexer": "ipython3",
   "version": "3.7.4"
  }
 },
 "nbformat": 4,
 "nbformat_minor": 4
}