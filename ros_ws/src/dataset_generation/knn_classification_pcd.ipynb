{
 "cells": [
  {
   "cell_type": "code",
   "execution_count": 1,
   "metadata": {},
   "outputs": [],
   "source": [
    "import os\n",
    "import pcl\n",
    "import pandas as pd\n",
    "from sklearn.neighbors import KNeighborsClassifier\n",
    "from sklearn.model_selection import train_test_split\n",
    "from sklearn.metrics import accuracy_score"
   ]
  },
  {
   "cell_type": "code",
   "execution_count": 2,
   "metadata": {},
   "outputs": [],
   "source": [
    "def pcd_to_df(pointcloud):\n",
    "    points = []\n",
    "    for point in pointcloud:\n",
    "        points.append(point)\n",
    "    return pd.DataFrame(points)\n",
    "\n",
    "def pcd_to_features(pointcloud):\n",
    "    datapoints = pcd_to_df(pointcloud)\n",
    "    vector = []\n",
    "    for mean_val in datapoints.mean():\n",
    "        vector.append(mean_val)\n",
    "    for std_val in datapoints.std():\n",
    "        vector.append(std_val)\n",
    "    return vector\n",
    "\n",
    "directory = 'bag6'\n",
    "collect = []\n",
    "labels = []\n",
    "for filename in os.listdir(directory):\n",
    "    pointcloud = pcl.load(directory+'/'+filename)\n",
    "    if \"sedan\" in filename.lower():\n",
    "        labels.append(0)\n",
    "    elif \"jeep\" in filename.lower():\n",
    "        labels.append(1)\n",
    "    elif \"suv\" in filename.lower():\n",
    "        labels.append(2)\n",
    "    elif \"hatchback\" in filename.lower():\n",
    "        labels.append(3)\n",
    "    elif \"truck\" in filename.lower():\n",
    "        labels.append(4)\n",
    "    collect.append(pcd_to_features(pointcloud))"
   ]
  },
  {
   "cell_type": "code",
   "execution_count": 3,
   "metadata": {},
   "outputs": [],
   "source": [
    "\n",
    "collect_train, collect_test, labels_train, labels_test = train_test_split(collect, labels, test_size=0.33, random_state=42)\n",
    "\n",
    "neigh = KNeighborsClassifier(n_neighbors=3)\n",
    "neigh.fit(collect_train, labels_train)\n",
    "y_pred = neigh.predict(collect_test)\n"
   ]
  },
  {
   "cell_type": "code",
   "execution_count": 4,
   "metadata": {},
   "outputs": [
    {
     "data": {
      "text/plain": [
       "0.8428571428571429"
      ]
     },
     "execution_count": 4,
     "metadata": {},
     "output_type": "execute_result"
    }
   ],
   "source": [
    "\n",
    "accuracy_score(labels_test, y_pred)"
   ]
  },
  {
   "cell_type": "code",
   "execution_count": null,
   "metadata": {},
   "outputs": [],
   "source": []
  }
 ],
 "metadata": {
  "kernelspec": {
   "display_name": "Python 3",
   "language": "python",
   "name": "python3"
  },
  "language_info": {
   "codemirror_mode": {
    "name": "ipython",
    "version": 3
   },
   "file_extension": ".py",
   "mimetype": "text/x-python",
   "name": "python",
   "nbconvert_exporter": "python",
   "pygments_lexer": "ipython3",
   "version": "3.7.4"
  }
 },
 "nbformat": 4,
 "nbformat_minor": 2
}
